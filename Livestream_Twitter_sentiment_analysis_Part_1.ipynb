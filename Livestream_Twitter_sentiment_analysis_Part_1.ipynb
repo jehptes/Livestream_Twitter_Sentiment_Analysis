{
 "cells": [
  {
   "cell_type": "markdown",
   "metadata": {},
   "source": [
    "### Import python packages "
   ]
  },
  {
   "cell_type": "code",
   "execution_count": 1,
   "metadata": {},
   "outputs": [],
   "source": [
    "import tweepy\n",
    "import mysql.connector\n",
    "from mysql.connector import Error\n",
    "from textblob import TextBlob\n",
    "import re"
   ]
  },
  {
   "cell_type": "markdown",
   "metadata": {},
   "source": [
    "### Set predefined variables  "
   ]
  },
  {
   "cell_type": "code",
   "execution_count": 2,
   "metadata": {},
   "outputs": [],
   "source": [
    "'''\n",
    "store words to track in a list \n",
    "'''\n",
    "\n",
    "word_s_tracked = ['#NSWfires', '#AustraliaOnFire', '#AustraliaisBurning', '#AustralianBushfire', '#AustalianBushfiresDisaster']\n",
    "\n",
    "\n",
    "''' \n",
    "Store mysql table name and attributes information \n",
    "'''\n",
    "\n",
    "\n",
    "table_name = 'aus_ameliorated_1'\n",
    "\n",
    "tables_attributes = \"id_str VARCHAR(255), text VARCHAR(255), polarity INT, subjectivity INT,\\\n",
    "                      created_at DATETIME, location VARCHAR(255),user_Description VARCHAR(255),is_user_verified BOOLEAN,\\\n",
    "                      user_followers INT, protected_tweets BOOLEAN, \\\n",
    "                      tweet_reply_count INT,retweet_count INT, favorite_count INT, latitude DOUBLE ,longitude DOUBLE\""
   ]
  },
  {
   "cell_type": "markdown",
   "metadata": {},
   "source": [
    "### Twitter access credentials"
   ]
  },
  {
   "cell_type": "code",
   "execution_count": 3,
   "metadata": {},
   "outputs": [],
   "source": [
    "# Consumer API keys\n",
    "\n",
    "consumer_key = '................................ ' # Obtain API key from Twitter\n",
    "consumer_secret_key = '..........................' # Obtain secret API key from Twitter \n",
    "\n",
    "# Access token & access token secret \n",
    "\n",
    "access_token = '................................' # obtain from twitter \n",
    "access_token_secret = '.........................'  # obtain from twitter "
   ]
  },
  {
   "cell_type": "markdown",
   "metadata": {},
   "source": [
    "### Tweet extraction , cleaning and insertion into Mysql database"
   ]
  },
  {
   "cell_type": "code",
   "execution_count": 4,
   "metadata": {},
   "outputs": [],
   "source": [
    "''' Configure Twitter streaming api '''\n",
    "\n",
    "class MyStreamListener(tweepy.StreamListener):\n",
    "    \n",
    "    \n",
    "    def on_status(self, status):\n",
    "        \n",
    "        #Avoiding tweets that have being retweeted\n",
    "        if not status.retweeted and ('RT @' not in status.text):    #this helps to extract only original tweets\n",
    "            id_str = status.user.id\n",
    "            text = deEmojify(status.text)\n",
    "            text = clean_tweet(self, text) \n",
    "            sentiment = TextBlob(text).sentiment\n",
    "            polarity = sentiment.polarity\n",
    "            subjectivity = sentiment.subjectivity\n",
    "            created_at = status.created_at\n",
    "            location = deEmojify(status.user.location)\n",
    "            user_Description = deEmojify(status.user.description)\n",
    "            is_user_verified = status.user.verified  #to check if user is verified. \n",
    "            user_followers = status.user.followers_count # Number of users who follow this user\n",
    "            protected_tweets = status.user.protected #Indicate if this user's Tweets are protected. \n",
    "            tweet_reply_count =  status.reply_count # Number of Replies of this Tweet.\n",
    "            longitude = None\n",
    "            latitude = None\n",
    "            if status.coordinates:\n",
    "                latitude = status.coordinates['coordinates'][0]  \n",
    "                longitude = status.coordinates['coordinates'][1]     \n",
    "            retweet_count = status.retweet_count\n",
    "            favorite_count = status.favorite_count\n",
    "             \n",
    "            print(status.text)\n",
    "\n",
    "        \n",
    "            # Connect to mysql database \n",
    "        \n",
    "            mysqldb = mysql.connector.connect(host ='localhost',\n",
    "            database= 'twitterdb', # Note that , you must have created this db before hand in mysql\n",
    "            user='root', \n",
    "            password='Foubizlee-260495',\n",
    "            charset='utf8')\n",
    "        \n",
    "            if mysqldb.is_connected(): \n",
    "                '''\n",
    "               check if table exist. If not, then create a new one.\n",
    "                '''\n",
    "                mycursor = mysqldb.cursor()\n",
    "                checktablequery = \"\"\" \n",
    "                SELECT COUNT(*) \n",
    "                FROM information_schema.tables \n",
    "                WHERE table_name = '{0}'\n",
    "                \"\"\".format(table_name)\n",
    "                mycursor.execute(checktablequery)\n",
    "            if mycursor.fetchone()[0] != 1:\n",
    "                mycursor.execute(f\"CREATE TABLE {table_name} ({tables_attributes })\")\n",
    "                mysqldb.commit()\n",
    "            mycursor.close()  \n",
    "    \n",
    "\n",
    "            # Insert twitter data into mysql database\n",
    "        \n",
    "            if mysqldb.is_connected():\n",
    "                mycursor = mysqldb.cursor() \n",
    "                query = f\"INSERT INTO {table_name} (id_str, text, polarity, subjectivity, created_at,location,user_Description,is_user_verified,user_followers,protected_tweets,tweet_reply_count, retweet_count, favorite_count,latitude,longitude) VALUES (%s, %s,%s, %s, %s, %s, %s, %s, %s, %s, %s, %s, %s, %s, %s)\"\n",
    "                values = (id_str, text, polarity, subjectivity, created_at,location,user_Description,is_user_verified,\\\n",
    "                      user_followers,protected_tweets,tweet_reply_count,retweet_count, favorite_count,latitude,longitude)\n",
    "                mycursor.execute(query, values)\n",
    "                mysqldb.commit()\n",
    "                mycursor.close()\n",
    "        \n",
    "        # Catch error and disconnect from stream\n",
    "    def on_error(self, status_code):\n",
    "        if status_code == 420:\n",
    "        #returning False in on_data disconnects the stream\n",
    "           return False"
   ]
  },
  {
   "cell_type": "markdown",
   "metadata": {},
   "source": [
    "### Functions  used above for cleaning tweets"
   ]
  },
  {
   "cell_type": "code",
   "execution_count": 5,
   "metadata": {},
   "outputs": [],
   "source": [
    "# Clean tweets to enable sentiment analysis \n",
    "\n",
    "def clean_tweet(self, tweet): \n",
    "    ''' \n",
    "    Use regex statemnents to clean tweet text by removing links and special characters\n",
    "    '''\n",
    "    return ' '.join(re.sub(\"(@[A-Za-z0-9]+)|([^0-9A-Za-z \\t]) \\\n",
    "                                |(\\w+:\\/\\/\\S+)\", \" \", tweet).split()) \n",
    "\n",
    "\n",
    "def deEmojify(text):\n",
    "    '''\n",
    "    Strip all non-ASCII characters to remove emoji characters\n",
    "    '''\n",
    "    if text:\n",
    "        return text.encode('ascii', 'ignore').decode('ascii')\n",
    "    else:\n",
    "        return None"
   ]
  },
  {
   "cell_type": "markdown",
   "metadata": {},
   "source": [
    "### Twitter Authentication  Handler instance "
   ]
  },
  {
   "cell_type": "code",
   "execution_count": 6,
   "metadata": {},
   "outputs": [],
   "source": [
    "# create OAuthHandler instance\n",
    "auth = tweepy.OAuthHandler(consumer_key, consumer_secret_key)\n",
    "auth.set_access_token(access_token, access_token_secret)\n",
    "api = tweepy.API(auth)"
   ]
  },
  {
   "cell_type": "markdown",
   "metadata": {},
   "source": [
    "### Tweet Stream instantiator"
   ]
  },
  {
   "cell_type": "code",
   "execution_count": null,
   "metadata": {
    "scrolled": true
   },
   "outputs": [
    {
     "name": "stdout",
     "output_type": "stream",
     "text": [
      "@Joe_Hildebrand You really do talk crap. Here is the lightning strikes that started Victorian and South NSW bushfir… https://t.co/k4gWuWXmlY\n",
      "So many #Kangaroos in a settlement, not knowing where to go and whre to be safe, as #AustraliaIsBurning .… https://t.co/UbdH7ryfmd\n",
      "[estimates] 1 billion animals dead\n",
      "25 human lives lost\n",
      "20 acres scorched\n",
      "157 bush/grass fires burning - 56 uncontai… https://t.co/7hpQH5Prs1\n",
      "New South Wales\n",
      "This picture breaks my heart #AustraliaOnFire 🔥🌳🔥🐨 😭\n",
      "US firefighters from California, USA already arrived at Sydney Int Airport, #Australia 🇦🇺\n",
      "\n",
      "Thy were sending to help… https://t.co/98B46RM4N8\n",
      "Fuck #AustraliaOnFire https://t.co/EcBYrJHuil\n",
      "Bless your kind soul 💜💜\n",
      "New South Wales\n",
      "This picture breaks my heart #AustraliaOnFire 🔥🌳🔥🐨 😭 https://t.co/b4L1vODWqd\n"
     ]
    }
   ],
   "source": [
    "'''\n",
    "Run stream and get data. \n",
    "NOTE: time error occuring at anypoint in time, will be handled and script wil continue running \n",
    "'''\n",
    "\n",
    "\n",
    "def start_streaming(): \n",
    "    while True: \n",
    "        try: \n",
    "            myStreamListener = MyStreamListener()\n",
    "            myStream = tweepy.Stream(auth = api.auth, listener = myStreamListener)\n",
    "            myStream.filter(languages=[\"en\"], track = word_s_tracked)\n",
    "            \n",
    "        except: \n",
    "            continue \n",
    "        \n",
    "# NOTE: to stop streaming and close close db , you have to completely shutdown the Kernel\n",
    "# This is because a while true loop was used above \n",
    "\n",
    "start_streaming()\n",
    "mysqldb.close()"
   ]
  },
  {
   "cell_type": "code",
   "execution_count": null,
   "metadata": {},
   "outputs": [],
   "source": []
  }
 ],
 "metadata": {
  "kernelspec": {
   "display_name": "Python 3",
   "language": "python",
   "name": "python3"
  },
  "language_info": {
   "codemirror_mode": {
    "name": "ipython",
    "version": 3
   },
   "file_extension": ".py",
   "mimetype": "text/x-python",
   "name": "python",
   "nbconvert_exporter": "python",
   "pygments_lexer": "ipython3",
   "version": "3.7.4"
  }
 },
 "nbformat": 4,
 "nbformat_minor": 2
}
